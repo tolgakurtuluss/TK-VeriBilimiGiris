{
 "cells": [
  {
   "cell_type": "markdown",
   "metadata": {},
   "source": [
    "# Veri Bilimi Temel Proje Örneği"
   ]
  },
  {
   "cell_type": "markdown",
   "metadata": {},
   "source": [
    "Titanic veri seti üzerinden temel veri işleme, veri analizi ve analitiği üzerine bir notebook hazırladık. Titanic veri seti veri bilimine yeni başlayanlar için temel işlemleri anlama açısından önemli bir çıkış noktasıdır. "
   ]
  },
  {
   "cell_type": "markdown",
   "metadata": {},
   "source": [
    "Peki veri bilimci olarak nasıl bir çalışma stratejisi belirlemeliyiz. \n",
    "Çoğu zaman veriyi alıp çeşitli keşif analizleri yapılabilir.\n",
    "Bu keşifler sonucunda çalışmanın genel hatlarını oluşturulup başlayabilirsiniz.\n",
    "Ancak hangi aşamada olursa olsun sormamız gereken sorular vardır. \n",
    "Biz bu çalışma için, veriyi hiç görmeden temel bir hat oluşturacağız\n",
    "\n",
    "\n",
    "1. Problem tanımı, bizden ne isteniyor?\n",
    "2. Eğitim ve Test datalarımız mevcut mu?(Bu kursun kapsamında değil ancak yoksa veri toplama sürecine geçeriz)\n",
    "3. Veriyi keşfet, temizle, analiz için hazırla.\n",
    "4. İlk analizlerini oluştur, kuracağın model için veri dönüşümlerini yap.\n",
    "5. Modeli oluştur, test et, problem sonucuna uygun cevaplar mı alıyorsun? (Hayır ise modeli ve modeli besleyen analizi\n",
    "tekrar gözden geçir)\n",
    "6. Sonuçları görselleştir, raporla, bulduğun en etkin çözümü sun.\n",
    "7. Kullandığın veri, kütüphane, sistem versiyonları ve modeli detaylı anlatan bir çözüm kitapcığı hazırla."
   ]
  },
  {
   "cell_type": "code",
   "execution_count": null,
   "metadata": {},
   "outputs": [],
   "source": [
    "pip install pandas seaborn"
   ]
  },
  {
   "cell_type": "code",
   "execution_count": null,
   "metadata": {
    "execution": {
     "iopub.execute_input": "2021-08-10T22:54:45.992439Z",
     "iopub.status.busy": "2021-08-10T22:54:45.991926Z",
     "iopub.status.idle": "2021-08-10T22:54:47.017029Z",
     "shell.execute_reply": "2021-08-10T22:54:47.016144Z",
     "shell.execute_reply.started": "2021-08-10T22:54:45.99233Z"
    },
    "trusted": true
   },
   "outputs": [],
   "source": [
    "import pandas as pd\n",
    "import numpy as np\n",
    "import seaborn as sns\n",
    "import matplotlib.pyplot as plt\n",
    "%matplotlib inline"
   ]
  },
  {
   "cell_type": "markdown",
   "metadata": {},
   "source": [
    "İlk olarak veri işleme, temizleme, hazırlama ve görselleştirme kütüphanelerini indirelim. Bu temel python eğitimi değildir. Python güçlü kütüphaneleri olan, veri bilimi ve yapay zeka uygulamalarında oldukça popüler bir programlama dilidir. Python temelleri için diğer eğitimlere bakmanızda fayda var. "
   ]
  },
  {
   "cell_type": "markdown",
   "metadata": {},
   "source": [
    "Genel bir kabul olarak kodlamada kullancağımız değişken ve fonksiyon isimleri kendilerini açıkayacak isimlerde olursa tekrar okunabilirliği artar. "
   ]
  },
  {
   "cell_type": "code",
   "execution_count": null,
   "metadata": {
    "execution": {
     "iopub.execute_input": "2021-08-10T22:54:47.018784Z",
     "iopub.status.busy": "2021-08-10T22:54:47.018489Z",
     "iopub.status.idle": "2021-08-10T22:54:47.038985Z",
     "shell.execute_reply": "2021-08-10T22:54:47.037884Z",
     "shell.execute_reply.started": "2021-08-10T22:54:47.018756Z"
    },
    "trusted": true
   },
   "outputs": [],
   "source": [
    "train_df = pd.read_csv(\"train.csv\")"
   ]
  },
  {
   "cell_type": "code",
   "execution_count": null,
   "metadata": {
    "execution": {
     "iopub.execute_input": "2021-08-10T22:54:47.041709Z",
     "iopub.status.busy": "2021-08-10T22:54:47.041256Z",
     "iopub.status.idle": "2021-08-10T22:54:47.079394Z",
     "shell.execute_reply": "2021-08-10T22:54:47.078425Z",
     "shell.execute_reply.started": "2021-08-10T22:54:47.041664Z"
    },
    "trusted": true
   },
   "outputs": [],
   "source": [
    "train_df.head(10)"
   ]
  },
  {
   "cell_type": "code",
   "execution_count": null,
   "metadata": {
    "execution": {
     "iopub.execute_input": "2021-08-10T22:54:47.081163Z",
     "iopub.status.busy": "2021-08-10T22:54:47.080868Z",
     "iopub.status.idle": "2021-08-10T22:54:47.086176Z",
     "shell.execute_reply": "2021-08-10T22:54:47.085485Z",
     "shell.execute_reply.started": "2021-08-10T22:54:47.081134Z"
    },
    "trusted": true
   },
   "outputs": [],
   "source": [
    "train_df.shape"
   ]
  },
  {
   "cell_type": "markdown",
   "metadata": {},
   "source": [
    ".shape önemili bir method. veri biliminde işlem yaptığımız verisetinin boyutları çok öenmlidir. özellikle ileride makine öğrenmesi modelleri kullanırken, veri boyutlarının tutarlı olması gerekir. "
   ]
  },
  {
   "cell_type": "code",
   "execution_count": null,
   "metadata": {
    "execution": {
     "iopub.execute_input": "2021-08-10T22:54:47.087967Z",
     "iopub.status.busy": "2021-08-10T22:54:47.087454Z",
     "iopub.status.idle": "2021-08-10T22:54:47.101411Z",
     "shell.execute_reply": "2021-08-10T22:54:47.100685Z",
     "shell.execute_reply.started": "2021-08-10T22:54:47.087932Z"
    },
    "trusted": true
   },
   "outputs": [],
   "source": [
    "train_df.columns.values"
   ]
  },
  {
   "cell_type": "raw",
   "metadata": {},
   "source": [
    "Yukarıdaki tabloya baktığımızda her değişkenin farklı özellikleri var. En başta sayısal, sayısal olmayan, kategorik veri tiplerini ayırmak ve bu verilri analiz için ayırmak ileride işimizi kolyalaştırır."
   ]
  },
  {
   "cell_type": "markdown",
   "metadata": {},
   "source": [
    "Categorical : Survived , Sex, Embarked. \n",
    "Ordinal Category : PClass\n",
    "Numerical : Age, Fare. \n",
    "Discrete Numerical : SibSp, Parch."
   ]
  },
  {
   "cell_type": "code",
   "execution_count": null,
   "metadata": {
    "execution": {
     "iopub.execute_input": "2021-08-10T22:54:47.10334Z",
     "iopub.status.busy": "2021-08-10T22:54:47.102772Z",
     "iopub.status.idle": "2021-08-10T22:54:47.11845Z",
     "shell.execute_reply": "2021-08-10T22:54:47.117447Z",
     "shell.execute_reply.started": "2021-08-10T22:54:47.103306Z"
    },
    "trusted": true
   },
   "outputs": [],
   "source": [
    "train_df.Sex.value_counts()"
   ]
  },
  {
   "cell_type": "markdown",
   "metadata": {},
   "source": [
    ".value_counts() fonksiyonu birçok defa kullanacağımız veri setinin değişkenkleri/değişkenine ait değerleri grup bazında toplar. "
   ]
  },
  {
   "cell_type": "code",
   "execution_count": null,
   "metadata": {
    "execution": {
     "iopub.execute_input": "2021-08-10T22:54:47.120197Z",
     "iopub.status.busy": "2021-08-10T22:54:47.119646Z",
     "iopub.status.idle": "2021-08-10T22:54:47.134249Z",
     "shell.execute_reply": "2021-08-10T22:54:47.133044Z",
     "shell.execute_reply.started": "2021-08-10T22:54:47.120164Z"
    },
    "trusted": true
   },
   "outputs": [],
   "source": [
    "train_df.Pclass.value_counts()"
   ]
  },
  {
   "cell_type": "markdown",
   "metadata": {},
   "source": [
    "Bu işlemi tüm değişkenler için mi yapmamız gerekiyor? Veri görselleştirme işte tam bu işe yarıyor. Çok büyük veri setlerinde hem temel işlemler ile hem de görselleştirme araçları ile veri keşfi yapılır. "
   ]
  },
  {
   "cell_type": "code",
   "execution_count": null,
   "metadata": {
    "execution": {
     "iopub.execute_input": "2021-08-10T22:54:47.137437Z",
     "iopub.status.busy": "2021-08-10T22:54:47.137114Z",
     "iopub.status.idle": "2021-08-10T22:54:47.161982Z",
     "shell.execute_reply": "2021-08-10T22:54:47.160711Z",
     "shell.execute_reply.started": "2021-08-10T22:54:47.137408Z"
    },
    "trusted": true
   },
   "outputs": [],
   "source": [
    "train_df.info()"
   ]
  },
  {
   "cell_type": "markdown",
   "metadata": {},
   "source": [
    "python .info() fonksiyonu veri setimizle ilgili temel bilgileri hızlıca bize verir. örneğin memory usage, non-null (boş olmayan) gözlem sayısı veri tipleri gibi. "
   ]
  },
  {
   "cell_type": "code",
   "execution_count": null,
   "metadata": {
    "execution": {
     "iopub.execute_input": "2021-08-10T22:54:47.164379Z",
     "iopub.status.busy": "2021-08-10T22:54:47.164051Z",
     "iopub.status.idle": "2021-08-10T22:54:47.178478Z",
     "shell.execute_reply": "2021-08-10T22:54:47.177744Z",
     "shell.execute_reply.started": "2021-08-10T22:54:47.164347Z"
    },
    "trusted": true
   },
   "outputs": [],
   "source": [
    "train_df.isnull().sum()"
   ]
  },
  {
   "cell_type": "markdown",
   "metadata": {},
   "source": [
    ".isnull() ve .sum() yine python un hazır fonksiyonları ve bize her zaman kullanabileceğimiz bir kalıp sunuyor. boş gözlemlerin değişken bazında toplam değeri. "
   ]
  },
  {
   "cell_type": "code",
   "execution_count": null,
   "metadata": {
    "execution": {
     "iopub.execute_input": "2021-08-10T22:54:47.179904Z",
     "iopub.status.busy": "2021-08-10T22:54:47.179472Z",
     "iopub.status.idle": "2021-08-10T22:54:47.216648Z",
     "shell.execute_reply": "2021-08-10T22:54:47.215812Z",
     "shell.execute_reply.started": "2021-08-10T22:54:47.179848Z"
    },
    "trusted": true
   },
   "outputs": [],
   "source": [
    "train_df[['Survived', 'Pclass', 'Sex', 'Age', 'SibSp',\n",
    "       'Parch', 'Ticket', 'Fare', 'Cabin', 'Embarked']].value_counts()"
   ]
  },
  {
   "cell_type": "markdown",
   "metadata": {},
   "source": [
    "Birden çok değişkene uygulanabilir ancak çok takip edilebilir bir sonuç değil."
   ]
  },
  {
   "cell_type": "code",
   "execution_count": null,
   "metadata": {
    "execution": {
     "iopub.execute_input": "2021-08-10T22:54:47.2185Z",
     "iopub.status.busy": "2021-08-10T22:54:47.218078Z",
     "iopub.status.idle": "2021-08-10T22:54:47.253638Z",
     "shell.execute_reply": "2021-08-10T22:54:47.252631Z",
     "shell.execute_reply.started": "2021-08-10T22:54:47.218459Z"
    },
    "trusted": true
   },
   "outputs": [],
   "source": [
    "train_df.describe()"
   ]
  },
  {
   "cell_type": "markdown",
   "metadata": {},
   "source": [
    ".describe() fonksiyonu veri setindeki değişkenlerin istatistiki bilgilerinşi bize verir, toplam sayı, ortalama, standart sapma min/max değerleri ile quantil değerleri. Bu fonksiyon sadece numeric değişkenlerin istatiksel verilerini verir, character tipi olanları değerlenmeye almaz. "
   ]
  },
  {
   "cell_type": "code",
   "execution_count": null,
   "metadata": {
    "execution": {
     "iopub.execute_input": "2021-08-10T22:54:47.255535Z",
     "iopub.status.busy": "2021-08-10T22:54:47.254964Z",
     "iopub.status.idle": "2021-08-10T22:54:47.296943Z",
     "shell.execute_reply": "2021-08-10T22:54:47.295862Z",
     "shell.execute_reply.started": "2021-08-10T22:54:47.25549Z"
    },
    "trusted": true
   },
   "outputs": [],
   "source": [
    "train_df.describe(include=[\"O\"])"
   ]
  },
  {
   "cell_type": "markdown",
   "metadata": {},
   "source": [
    "Yukarıda info() fonksiyonuna bakarken bazı değişkenlerin object olduğunu görmüştük. include=\"O\" methodu object tipi değişkenleri özetlemek için "
   ]
  },
  {
   "cell_type": "markdown",
   "metadata": {},
   "source": [
    "Yukarıdaki ilk veri incelemelerine göre bazı çıkarımlarımız olacak. \n",
    "1. Cabin / Age / Embarked verilerinde kayıp vei bulunmakta\n",
    "2. Name değişkeni 891/891 unique değerde\n",
    "3. Cabin ve Ticket değişkenlerinde duplicate veriler bulunmakta."
   ]
  },
  {
   "cell_type": "markdown",
   "metadata": {},
   "source": [
    "Bir veri analizine bakmadan önce \"domain\" bilgisine sahip olmak çok öenmlidir. Bu kazada kayıpların çoğunluğu\n",
    "yeterli tahliye kayığı olmadığı için yaşanmış. Tahliye kayıklarına kadınlar/çocuklar ve üst sınıf yolcuların erişiminin daha çok olduğu varsayabiliriz. Üst sınıf yolcular Pclass da 1 indexli, Kadınlar Sex değişkeninde \"female\" indexli, çocuklarında yaş verilerinden çıkartılabilir. "
   ]
  },
  {
   "cell_type": "code",
   "execution_count": null,
   "metadata": {
    "execution": {
     "iopub.execute_input": "2021-08-10T22:54:47.298657Z",
     "iopub.status.busy": "2021-08-10T22:54:47.298299Z",
     "iopub.status.idle": "2021-08-10T22:54:47.31446Z",
     "shell.execute_reply": "2021-08-10T22:54:47.313501Z",
     "shell.execute_reply.started": "2021-08-10T22:54:47.298626Z"
    },
    "trusted": true
   },
   "outputs": [],
   "source": [
    "#pivoting variables\n",
    "train_df[[\"Sex\",\"Survived\"]].groupby([\"Sex\"], as_index = False).mean()"
   ]
  },
  {
   "cell_type": "markdown",
   "metadata": {},
   "source": [
    ".groupby() pivot oluşturmak için kullanılan, bir "
   ]
  },
  {
   "cell_type": "code",
   "execution_count": null,
   "metadata": {
    "execution": {
     "iopub.execute_input": "2021-08-10T22:54:47.316045Z",
     "iopub.status.busy": "2021-08-10T22:54:47.315755Z",
     "iopub.status.idle": "2021-08-10T22:54:47.331879Z",
     "shell.execute_reply": "2021-08-10T22:54:47.330892Z",
     "shell.execute_reply.started": "2021-08-10T22:54:47.316018Z"
    },
    "trusted": true
   },
   "outputs": [],
   "source": [
    "train_df[[\"Pclass\",\"Survived\"]].groupby([\"Pclass\"], as_index = False).mean()"
   ]
  },
  {
   "cell_type": "code",
   "execution_count": null,
   "metadata": {
    "execution": {
     "iopub.execute_input": "2021-08-10T22:54:47.333942Z",
     "iopub.status.busy": "2021-08-10T22:54:47.333516Z",
     "iopub.status.idle": "2021-08-10T22:54:47.355696Z",
     "shell.execute_reply": "2021-08-10T22:54:47.354927Z",
     "shell.execute_reply.started": "2021-08-10T22:54:47.333899Z"
    },
    "trusted": true
   },
   "outputs": [],
   "source": [
    "train_df[[\"Age\",\"Survived\"]].groupby([\"Age\"], as_index = False).mean().sort_values(by=\"Survived\",ascending = False)"
   ]
  },
  {
   "cell_type": "code",
   "execution_count": null,
   "metadata": {
    "execution": {
     "iopub.execute_input": "2021-08-10T22:54:47.35766Z",
     "iopub.status.busy": "2021-08-10T22:54:47.357081Z",
     "iopub.status.idle": "2021-08-10T22:54:47.842931Z",
     "shell.execute_reply": "2021-08-10T22:54:47.842009Z",
     "shell.execute_reply.started": "2021-08-10T22:54:47.357617Z"
    },
    "trusted": true
   },
   "outputs": [],
   "source": [
    "age_plot = sns.FacetGrid(train_df,col=\"Survived\")\n",
    "age_plot.map(plt.hist,\"Age\",bins = 25)"
   ]
  },
  {
   "cell_type": "code",
   "execution_count": null,
   "metadata": {
    "execution": {
     "iopub.execute_input": "2021-08-10T22:54:47.844478Z",
     "iopub.status.busy": "2021-08-10T22:54:47.844181Z",
     "iopub.status.idle": "2021-08-10T22:54:48.139807Z",
     "shell.execute_reply": "2021-08-10T22:54:48.138923Z",
     "shell.execute_reply.started": "2021-08-10T22:54:47.844449Z"
    },
    "trusted": true
   },
   "outputs": [],
   "source": [
    "plt.figure(figsize=(10,5))\n",
    "sns.boxplot(x=\"Pclass\",y=\"Age\",data=train_df,hue=\"Survived\")"
   ]
  },
  {
   "cell_type": "code",
   "execution_count": null,
   "metadata": {
    "execution": {
     "iopub.execute_input": "2021-08-10T22:54:48.14147Z",
     "iopub.status.busy": "2021-08-10T22:54:48.141184Z",
     "iopub.status.idle": "2021-08-10T22:54:48.155835Z",
     "shell.execute_reply": "2021-08-10T22:54:48.154896Z",
     "shell.execute_reply.started": "2021-08-10T22:54:48.141441Z"
    },
    "trusted": true
   },
   "outputs": [],
   "source": [
    "pd.cut(train_df[\"Age\"],bins=[0,14,60,100],include_lowest=True,labels=[\"child\",\"adult\",\"elder\"])"
   ]
  },
  {
   "cell_type": "code",
   "execution_count": null,
   "metadata": {
    "execution": {
     "iopub.execute_input": "2021-08-10T22:54:48.157692Z",
     "iopub.status.busy": "2021-08-10T22:54:48.157088Z",
     "iopub.status.idle": "2021-08-10T22:54:48.164514Z",
     "shell.execute_reply": "2021-08-10T22:54:48.163758Z",
     "shell.execute_reply.started": "2021-08-10T22:54:48.157649Z"
    },
    "trusted": true
   },
   "outputs": [],
   "source": [
    "train_df[\"age_group\"] = pd.cut(train_df[\"Age\"],bins=[0,14,60,100],include_lowest=True,labels=[\"child\",\"adult\",\"elder\"])"
   ]
  },
  {
   "cell_type": "code",
   "execution_count": null,
   "metadata": {
    "execution": {
     "iopub.execute_input": "2021-08-10T22:54:48.165945Z",
     "iopub.status.busy": "2021-08-10T22:54:48.165534Z",
     "iopub.status.idle": "2021-08-10T22:54:48.199675Z",
     "shell.execute_reply": "2021-08-10T22:54:48.198756Z",
     "shell.execute_reply.started": "2021-08-10T22:54:48.165903Z"
    },
    "trusted": true
   },
   "outputs": [],
   "source": [
    "train_df.head(20)"
   ]
  },
  {
   "cell_type": "code",
   "execution_count": null,
   "metadata": {
    "execution": {
     "iopub.execute_input": "2021-08-10T22:54:48.201307Z",
     "iopub.status.busy": "2021-08-10T22:54:48.200802Z",
     "iopub.status.idle": "2021-08-10T22:54:49.099671Z",
     "shell.execute_reply": "2021-08-10T22:54:49.098591Z",
     "shell.execute_reply.started": "2021-08-10T22:54:48.201238Z"
    },
    "trusted": true
   },
   "outputs": [],
   "source": [
    "sns.catplot(x=\"Pclass\",y=\"Survived\",col=\"age_group\",data=train_df,kind=\"bar\")"
   ]
  },
  {
   "cell_type": "code",
   "execution_count": null,
   "metadata": {
    "execution": {
     "iopub.execute_input": "2021-08-10T22:54:49.101414Z",
     "iopub.status.busy": "2021-08-10T22:54:49.10099Z",
     "iopub.status.idle": "2021-08-10T22:54:49.11Z",
     "shell.execute_reply": "2021-08-10T22:54:49.109071Z",
     "shell.execute_reply.started": "2021-08-10T22:54:49.101379Z"
    },
    "trusted": true
   },
   "outputs": [],
   "source": [
    "train_df.age_group.value_counts()"
   ]
  },
  {
   "cell_type": "code",
   "execution_count": null,
   "metadata": {
    "execution": {
     "iopub.execute_input": "2021-08-10T22:54:49.114978Z",
     "iopub.status.busy": "2021-08-10T22:54:49.114662Z",
     "iopub.status.idle": "2021-08-10T22:54:49.123723Z",
     "shell.execute_reply": "2021-08-10T22:54:49.12263Z",
     "shell.execute_reply.started": "2021-08-10T22:54:49.114949Z"
    },
    "trusted": true
   },
   "outputs": [],
   "source": [
    "train_df[train_df[\"age_group\"] == \"child\"].Pclass.value_counts()"
   ]
  },
  {
   "cell_type": "code",
   "execution_count": null,
   "metadata": {
    "execution": {
     "iopub.execute_input": "2021-08-10T22:54:49.127655Z",
     "iopub.status.busy": "2021-08-10T22:54:49.127244Z",
     "iopub.status.idle": "2021-08-10T22:54:49.13757Z",
     "shell.execute_reply": "2021-08-10T22:54:49.136591Z",
     "shell.execute_reply.started": "2021-08-10T22:54:49.127623Z"
    },
    "trusted": true
   },
   "outputs": [],
   "source": [
    "train_df[(train_df[\"age_group\"] == \"child\") & (train_df[\"Survived\"] == 1) ].Pclass.value_counts()"
   ]
  },
  {
   "cell_type": "code",
   "execution_count": null,
   "metadata": {
    "execution": {
     "iopub.execute_input": "2021-08-10T22:54:49.140059Z",
     "iopub.status.busy": "2021-08-10T22:54:49.139381Z",
     "iopub.status.idle": "2021-08-10T22:54:49.152788Z",
     "shell.execute_reply": "2021-08-10T22:54:49.151696Z",
     "shell.execute_reply.started": "2021-08-10T22:54:49.140014Z"
    },
    "trusted": true
   },
   "outputs": [],
   "source": [
    "train_df[train_df[\"age_group\"] == \"adult\"].Pclass.value_counts()"
   ]
  },
  {
   "cell_type": "code",
   "execution_count": null,
   "metadata": {
    "execution": {
     "iopub.execute_input": "2021-08-10T22:54:49.15443Z",
     "iopub.status.busy": "2021-08-10T22:54:49.15413Z",
     "iopub.status.idle": "2021-08-10T22:54:49.165078Z",
     "shell.execute_reply": "2021-08-10T22:54:49.164039Z",
     "shell.execute_reply.started": "2021-08-10T22:54:49.154402Z"
    },
    "trusted": true
   },
   "outputs": [],
   "source": [
    "train_df[(train_df[\"age_group\"] == \"adult\") & (train_df[\"Survived\"] == 1) ].Pclass.value_counts()"
   ]
  },
  {
   "cell_type": "markdown",
   "metadata": {},
   "source": [
    "## 4C => Correct - Complete - Create - Convert"
   ]
  },
  {
   "cell_type": "code",
   "execution_count": null,
   "metadata": {
    "execution": {
     "iopub.execute_input": "2021-08-10T22:54:49.166708Z",
     "iopub.status.busy": "2021-08-10T22:54:49.166246Z",
     "iopub.status.idle": "2021-08-10T22:54:49.187844Z",
     "shell.execute_reply": "2021-08-10T22:54:49.186884Z",
     "shell.execute_reply.started": "2021-08-10T22:54:49.166678Z"
    },
    "trusted": true
   },
   "outputs": [],
   "source": [
    "#before move on \n",
    "test_df = pd.read_csv(\"test.csv\")"
   ]
  },
  {
   "cell_type": "code",
   "execution_count": null,
   "metadata": {
    "execution": {
     "iopub.execute_input": "2021-08-10T22:54:49.189441Z",
     "iopub.status.busy": "2021-08-10T22:54:49.189021Z",
     "iopub.status.idle": "2021-08-10T22:54:49.217643Z",
     "shell.execute_reply": "2021-08-10T22:54:49.215777Z",
     "shell.execute_reply.started": "2021-08-10T22:54:49.189401Z"
    },
    "trusted": true
   },
   "outputs": [],
   "source": [
    "test_df"
   ]
  },
  {
   "cell_type": "code",
   "execution_count": null,
   "metadata": {
    "execution": {
     "iopub.execute_input": "2021-08-10T22:54:49.219448Z",
     "iopub.status.busy": "2021-08-10T22:54:49.219139Z",
     "iopub.status.idle": "2021-08-10T22:54:49.227635Z",
     "shell.execute_reply": "2021-08-10T22:54:49.226962Z",
     "shell.execute_reply.started": "2021-08-10T22:54:49.219418Z"
    },
    "trusted": true
   },
   "outputs": [],
   "source": [
    "test_df.isnull().sum()"
   ]
  },
  {
   "cell_type": "code",
   "execution_count": null,
   "metadata": {
    "execution": {
     "iopub.execute_input": "2021-08-10T22:54:49.230074Z",
     "iopub.status.busy": "2021-08-10T22:54:49.229486Z",
     "iopub.status.idle": "2021-08-10T22:54:49.266882Z",
     "shell.execute_reply": "2021-08-10T22:54:49.266095Z",
     "shell.execute_reply.started": "2021-08-10T22:54:49.23004Z"
    },
    "trusted": true
   },
   "outputs": [],
   "source": [
    "train_df.drop(\"Cabin\",axis=1)"
   ]
  },
  {
   "cell_type": "code",
   "execution_count": null,
   "metadata": {
    "execution": {
     "iopub.execute_input": "2021-08-10T22:54:49.268553Z",
     "iopub.status.busy": "2021-08-10T22:54:49.268085Z",
     "iopub.status.idle": "2021-08-10T22:54:49.281312Z",
     "shell.execute_reply": "2021-08-10T22:54:49.280549Z",
     "shell.execute_reply.started": "2021-08-10T22:54:49.268522Z"
    },
    "trusted": true
   },
   "outputs": [],
   "source": [
    "train_df[\"family_size\"] = train_df.SibSp + train_df.Parch + 1"
   ]
  },
  {
   "cell_type": "code",
   "execution_count": null,
   "metadata": {
    "execution": {
     "iopub.execute_input": "2021-08-10T22:54:49.285125Z",
     "iopub.status.busy": "2021-08-10T22:54:49.284663Z",
     "iopub.status.idle": "2021-08-10T22:54:49.31942Z",
     "shell.execute_reply": "2021-08-10T22:54:49.318419Z",
     "shell.execute_reply.started": "2021-08-10T22:54:49.285092Z"
    },
    "trusted": true
   },
   "outputs": [],
   "source": [
    "train_df.head(20)"
   ]
  },
  {
   "cell_type": "markdown",
   "metadata": {},
   "source": [
    "düzeltme için hızlıca verilere bakıp bir yazım yanlışı var mı, çok anlamsız bir sayısal veri var mı diye bakabiliriz. yukarıda ki genel veri incelemelerinde göze batan en büyük şey eksik verilerin olduğu değişkenlerdi. bundan sonra veri tamamlama yapabiliriz, ardından yüksek korelasyonlu değişkenleri çıkartarak modelin daha doğru tahminleme yapması için veriyi hazırlarız. Son olarak, verilerimizi makine öğrenmesi için daha anlamlı olan veri yapılarına çeviririz. "
   ]
  },
  {
   "cell_type": "code",
   "execution_count": null,
   "metadata": {
    "execution": {
     "iopub.execute_input": "2021-08-10T23:17:40.542589Z",
     "iopub.status.busy": "2021-08-10T23:17:40.542188Z",
     "iopub.status.idle": "2021-08-10T23:17:40.566391Z",
     "shell.execute_reply": "2021-08-10T23:17:40.565311Z",
     "shell.execute_reply.started": "2021-08-10T23:17:40.542556Z"
    },
    "trusted": true
   },
   "outputs": [],
   "source": [
    "# so lets start from the scracth.\n",
    "train = pd.read_csv(\"train.csv\")\n",
    "test = pd.read_csv(\"test.csv\")\n",
    "# daha evvelden yaptığımız keşifleri düzenli olarak işleme alacagiz\n",
    "#daha evvelki araştırmamızda bazı sütunları atacağımızı söylemiştik\n",
    "train.drop(\"Cabin\",axis=1,inplace=True)\n",
    "test.drop(\"Cabin\",axis=1,inplace=True)\n",
    "#also pax id ve name bizim için belirleyici değişkenler değil. \n",
    "train.drop([\"PassengerId\",\"Name\"],axis=1,inplace=True)\n",
    "test.drop([\"PassengerId\",\"Name\"],axis=1,inplace=True)"
   ]
  },
  {
   "cell_type": "code",
   "execution_count": null,
   "metadata": {
    "execution": {
     "iopub.execute_input": "2021-08-10T23:14:35.803579Z",
     "iopub.status.busy": "2021-08-10T23:14:35.803237Z",
     "iopub.status.idle": "2021-08-10T23:14:35.81535Z",
     "shell.execute_reply": "2021-08-10T23:14:35.814202Z",
     "shell.execute_reply.started": "2021-08-10T23:14:35.803551Z"
    },
    "trusted": true
   },
   "outputs": [],
   "source": [
    "#peki bilet numarası? bilet numarası için tekrar bakalım\n",
    "print(train.Ticket.value_counts())\n",
    "train.Ticket.isnull().sum()"
   ]
  },
  {
   "cell_type": "code",
   "execution_count": null,
   "metadata": {
    "execution": {
     "iopub.execute_input": "2021-08-10T23:17:56.542044Z",
     "iopub.status.busy": "2021-08-10T23:17:56.541497Z",
     "iopub.status.idle": "2021-08-10T23:17:56.553538Z",
     "shell.execute_reply": "2021-08-10T23:17:56.552268Z",
     "shell.execute_reply.started": "2021-08-10T23:17:56.54199Z"
    },
    "trusted": true
   },
   "outputs": [],
   "source": [
    "#cinsiyetler doğru mu acaba? baze male yerine Male yahut m yazılabilir. \n",
    "train.Sex.value_counts()"
   ]
  },
  {
   "cell_type": "code",
   "execution_count": null,
   "metadata": {
    "execution": {
     "iopub.execute_input": "2021-08-10T23:18:02.832624Z",
     "iopub.status.busy": "2021-08-10T23:18:02.83226Z",
     "iopub.status.idle": "2021-08-10T23:18:02.841518Z",
     "shell.execute_reply": "2021-08-10T23:18:02.840768Z",
     "shell.execute_reply.started": "2021-08-10T23:18:02.832593Z"
    },
    "trusted": true
   },
   "outputs": [],
   "source": [
    "#düzeltmeler bitti, şimdi doldurmalar. \n",
    "train.isnull().sum()"
   ]
  },
  {
   "cell_type": "code",
   "execution_count": null,
   "metadata": {
    "execution": {
     "iopub.execute_input": "2021-08-10T23:18:05.471932Z",
     "iopub.status.busy": "2021-08-10T23:18:05.471095Z",
     "iopub.status.idle": "2021-08-10T23:18:05.480185Z",
     "shell.execute_reply": "2021-08-10T23:18:05.479294Z",
     "shell.execute_reply.started": "2021-08-10T23:18:05.471889Z"
    },
    "trusted": true
   },
   "outputs": [],
   "source": [
    "test.isnull().sum()"
   ]
  },
  {
   "cell_type": "code",
   "execution_count": null,
   "metadata": {
    "execution": {
     "iopub.execute_input": "2021-08-10T23:18:10.35574Z",
     "iopub.status.busy": "2021-08-10T23:18:10.355399Z",
     "iopub.status.idle": "2021-08-10T23:18:10.367536Z",
     "shell.execute_reply": "2021-08-10T23:18:10.366635Z",
     "shell.execute_reply.started": "2021-08-10T23:18:10.355708Z"
    },
    "trusted": true
   },
   "outputs": [],
   "source": [
    "#hedef belli oldu. Age :)\n",
    "train.Age.describe()"
   ]
  },
  {
   "cell_type": "code",
   "execution_count": null,
   "metadata": {
    "execution": {
     "iopub.execute_input": "2021-08-10T23:18:13.909986Z",
     "iopub.status.busy": "2021-08-10T23:18:13.909482Z",
     "iopub.status.idle": "2021-08-10T23:18:14.16073Z",
     "shell.execute_reply": "2021-08-10T23:18:14.159793Z",
     "shell.execute_reply.started": "2021-08-10T23:18:13.909949Z"
    },
    "trusted": true
   },
   "outputs": [],
   "source": [
    "plt.figure(figsize=(10,5))\n",
    "sns.boxplot(x=\"Sex\",y=\"Age\",data=train,hue=\"Survived\")"
   ]
  },
  {
   "cell_type": "code",
   "execution_count": null,
   "metadata": {
    "execution": {
     "iopub.execute_input": "2021-08-10T23:18:27.876701Z",
     "iopub.status.busy": "2021-08-10T23:18:27.876346Z",
     "iopub.status.idle": "2021-08-10T23:18:28.046215Z",
     "shell.execute_reply": "2021-08-10T23:18:28.045016Z",
     "shell.execute_reply.started": "2021-08-10T23:18:27.876668Z"
    },
    "trusted": true
   },
   "outputs": [],
   "source": [
    "plt.figure(figsize=(10,5))\n",
    "sns.boxplot(x=\"Sex\",y=\"Age\",data=test)"
   ]
  },
  {
   "cell_type": "code",
   "execution_count": null,
   "metadata": {
    "trusted": true
   },
   "outputs": [],
   "source": []
  },
  {
   "cell_type": "code",
   "execution_count": null,
   "metadata": {
    "execution": {
     "iopub.execute_input": "2021-08-10T23:19:20.789792Z",
     "iopub.status.busy": "2021-08-10T23:19:20.789219Z",
     "iopub.status.idle": "2021-08-10T23:19:20.796382Z",
     "shell.execute_reply": "2021-08-10T23:19:20.795415Z",
     "shell.execute_reply.started": "2021-08-10T23:19:20.789733Z"
    },
    "trusted": true
   },
   "outputs": [],
   "source": [
    "#as we can see mean values for survived or not, male or female at 30. so we can impute 30.0\n",
    "train[\"Age\"].fillna(train[\"Age\"].mean(),inplace=True)\n",
    "test[\"Age\"].fillna(test[\"Age\"].mean(),inplace=True)"
   ]
  },
  {
   "cell_type": "code",
   "execution_count": null,
   "metadata": {
    "trusted": true
   },
   "outputs": [],
   "source": []
  },
  {
   "cell_type": "code",
   "execution_count": null,
   "metadata": {
    "execution": {
     "iopub.execute_input": "2021-08-10T23:20:09.3805Z",
     "iopub.status.busy": "2021-08-10T23:20:09.380101Z",
     "iopub.status.idle": "2021-08-10T23:20:09.392488Z",
     "shell.execute_reply": "2021-08-10T23:20:09.391331Z",
     "shell.execute_reply.started": "2021-08-10T23:20:09.380466Z"
    },
    "trusted": true
   },
   "outputs": [],
   "source": [
    "print(train.isnull().sum())\n",
    "print(test.isnull().sum())"
   ]
  },
  {
   "cell_type": "code",
   "execution_count": null,
   "metadata": {
    "execution": {
     "iopub.execute_input": "2021-08-10T23:21:54.191442Z",
     "iopub.status.busy": "2021-08-10T23:21:54.190925Z",
     "iopub.status.idle": "2021-08-10T23:21:54.20304Z",
     "shell.execute_reply": "2021-08-10T23:21:54.201916Z",
     "shell.execute_reply.started": "2021-08-10T23:21:54.191395Z"
    },
    "trusted": true
   },
   "outputs": [],
   "source": [
    "print(train.Embarked.value_counts())\n",
    "print(train.Embarked.isnull().sum())\n",
    "print(test.Embarked.value_counts())\n",
    "print(test.Embarked.isnull().sum())"
   ]
  },
  {
   "cell_type": "code",
   "execution_count": null,
   "metadata": {
    "execution": {
     "iopub.execute_input": "2021-08-10T23:22:27.093311Z",
     "iopub.status.busy": "2021-08-10T23:22:27.092963Z",
     "iopub.status.idle": "2021-08-10T23:22:27.099605Z",
     "shell.execute_reply": "2021-08-10T23:22:27.098407Z",
     "shell.execute_reply.started": "2021-08-10T23:22:27.093281Z"
    },
    "trusted": true
   },
   "outputs": [],
   "source": [
    "train[\"Embarked\"].fillna(\"S\",inplace=True)\n",
    "test[\"Fare\"].fillna(test[\"Fare\"].mean(),inplace=True)"
   ]
  },
  {
   "cell_type": "code",
   "execution_count": null,
   "metadata": {
    "execution": {
     "iopub.execute_input": "2021-08-10T23:15:31.437475Z",
     "iopub.status.busy": "2021-08-10T23:15:31.436748Z",
     "iopub.status.idle": "2021-08-10T23:15:31.442258Z",
     "shell.execute_reply": "2021-08-10T23:15:31.440756Z",
     "shell.execute_reply.started": "2021-08-10T23:15:31.437419Z"
    },
    "trusted": true
   },
   "outputs": [],
   "source": [
    "#time to create! şimdi yeni değişkenler yaratma zamanı. \n",
    "#buarada veriyi inceledikten sonra veri bilimci değişkenler hakkında bir öngörüye sahip olur.\n",
    "#iyi bir veri bilimci kendisine verilenler ile yetinmez, yaratır. (Create)"
   ]
  },
  {
   "cell_type": "code",
   "execution_count": null,
   "metadata": {
    "execution": {
     "iopub.execute_input": "2021-08-10T23:22:53.783961Z",
     "iopub.status.busy": "2021-08-10T23:22:53.783598Z",
     "iopub.status.idle": "2021-08-10T23:22:53.79225Z",
     "shell.execute_reply": "2021-08-10T23:22:53.791037Z",
     "shell.execute_reply.started": "2021-08-10T23:22:53.783927Z"
    },
    "trusted": true
   },
   "outputs": [],
   "source": [
    "train[\"family_size\"] = train[\"SibSp\"] + train[\"Parch\"] + 1\n",
    "test[\"family_size\"] = test[\"SibSp\"] + test[\"Parch\"] + 1"
   ]
  },
  {
   "cell_type": "code",
   "execution_count": null,
   "metadata": {
    "execution": {
     "iopub.execute_input": "2021-08-10T23:23:47.321659Z",
     "iopub.status.busy": "2021-08-10T23:23:47.321295Z",
     "iopub.status.idle": "2021-08-10T23:23:47.354121Z",
     "shell.execute_reply": "2021-08-10T23:23:47.352906Z",
     "shell.execute_reply.started": "2021-08-10T23:23:47.321629Z"
    },
    "trusted": true
   },
   "outputs": [],
   "source": []
  },
  {
   "cell_type": "code",
   "execution_count": null,
   "metadata": {
    "execution": {
     "iopub.execute_input": "2021-08-10T23:25:15.028881Z",
     "iopub.status.busy": "2021-08-10T23:25:15.028518Z",
     "iopub.status.idle": "2021-08-10T23:25:15.041245Z",
     "shell.execute_reply": "2021-08-10T23:25:15.040253Z",
     "shell.execute_reply.started": "2021-08-10T23:25:15.028847Z"
    },
    "trusted": true
   },
   "outputs": [],
   "source": [
    "train[\"age_group\"] = pd.cut(train[\"Age\"],bins=[0,14,60,100],include_lowest=True,labels=[\"child\",\"adult\",\"elder\"])\n",
    "test[\"age_group\"] = pd.cut(test[\"Age\"],bins=[0,14,60,100],include_lowest=True,labels=[\"child\",\"adult\",\"elder\"])"
   ]
  },
  {
   "cell_type": "code",
   "execution_count": null,
   "metadata": {
    "execution": {
     "iopub.execute_input": "2021-08-10T23:26:05.653613Z",
     "iopub.status.busy": "2021-08-10T23:26:05.653262Z",
     "iopub.status.idle": "2021-08-10T23:26:05.65716Z",
     "shell.execute_reply": "2021-08-10T23:26:05.656342Z",
     "shell.execute_reply.started": "2021-08-10T23:26:05.653581Z"
    },
    "trusted": true
   },
   "outputs": [],
   "source": [
    "# child, adult, elder açıklayıcılık anlamında çok iyi ancak ileride öğreneceğimiz gibi,\n",
    "# numeric kodlama 0,1,2 çok daha uygun olacaktır. böylece bir çok model için tekrar dönüşüm gerekmez. \n"
   ]
  },
  {
   "cell_type": "code",
   "execution_count": null,
   "metadata": {
    "execution": {
     "iopub.execute_input": "2021-08-10T23:26:07.077505Z",
     "iopub.status.busy": "2021-08-10T23:26:07.076918Z",
     "iopub.status.idle": "2021-08-10T23:26:07.236921Z",
     "shell.execute_reply": "2021-08-10T23:26:07.236003Z",
     "shell.execute_reply.started": "2021-08-10T23:26:07.077467Z"
    },
    "trusted": true
   },
   "outputs": [],
   "source": [
    "# peki sibsp ve parch yerine sadece family size kullanabilir miyiz?\n",
    "train.SibSp.value_counts().plot(kind=\"bar\")"
   ]
  },
  {
   "cell_type": "code",
   "execution_count": null,
   "metadata": {
    "execution": {
     "iopub.execute_input": "2021-08-10T23:26:08.63621Z",
     "iopub.status.busy": "2021-08-10T23:26:08.635876Z",
     "iopub.status.idle": "2021-08-10T23:26:08.801994Z",
     "shell.execute_reply": "2021-08-10T23:26:08.800937Z",
     "shell.execute_reply.started": "2021-08-10T23:26:08.636178Z"
    },
    "trusted": true
   },
   "outputs": [],
   "source": [
    "train.Parch.value_counts().plot(kind=\"bar\")"
   ]
  },
  {
   "cell_type": "code",
   "execution_count": null,
   "metadata": {
    "execution": {
     "iopub.execute_input": "2021-08-10T23:26:09.611263Z",
     "iopub.status.busy": "2021-08-10T23:26:09.610926Z",
     "iopub.status.idle": "2021-08-10T23:26:09.782878Z",
     "shell.execute_reply": "2021-08-10T23:26:09.781846Z",
     "shell.execute_reply.started": "2021-08-10T23:26:09.611232Z"
    },
    "trusted": true
   },
   "outputs": [],
   "source": [
    "train.family_size.value_counts().plot(kind=\"bar\")"
   ]
  },
  {
   "cell_type": "code",
   "execution_count": null,
   "metadata": {
    "execution": {
     "iopub.execute_input": "2021-08-10T23:26:12.221097Z",
     "iopub.status.busy": "2021-08-10T23:26:12.220749Z",
     "iopub.status.idle": "2021-08-10T23:26:12.230013Z",
     "shell.execute_reply": "2021-08-10T23:26:12.228768Z",
     "shell.execute_reply.started": "2021-08-10T23:26:12.221066Z"
    },
    "trusted": true
   },
   "outputs": [],
   "source": [
    "#yukarıda görebileceğimiz gibi sadece family_size değişkeni ile oransallığı bozmadan değişkenlerimizi ifade ediyoruz.\n",
    "train.drop([\"SibSp\",\"Parch\"],axis=1,inplace=True)\n",
    "test.drop([\"SibSp\",\"Parch\"],axis=1,inplace=True)"
   ]
  },
  {
   "cell_type": "code",
   "execution_count": null,
   "metadata": {
    "execution": {
     "iopub.execute_input": "2021-08-10T23:26:21.465501Z",
     "iopub.status.busy": "2021-08-10T23:26:21.46513Z",
     "iopub.status.idle": "2021-08-10T23:26:21.472673Z",
     "shell.execute_reply": "2021-08-10T23:26:21.471656Z",
     "shell.execute_reply.started": "2021-08-10T23:26:21.465468Z"
    },
    "trusted": true
   },
   "outputs": [],
   "source": [
    "train.drop(\"Ticket\",axis=1,inplace=True)\n",
    "test.drop(\"Ticket\",axis=1,inplace=True)"
   ]
  },
  {
   "cell_type": "code",
   "execution_count": null,
   "metadata": {
    "execution": {
     "iopub.execute_input": "2021-08-10T23:26:22.493974Z",
     "iopub.status.busy": "2021-08-10T23:26:22.493537Z",
     "iopub.status.idle": "2021-08-10T23:26:22.501991Z",
     "shell.execute_reply": "2021-08-10T23:26:22.500614Z",
     "shell.execute_reply.started": "2021-08-10T23:26:22.49394Z"
    },
    "trusted": true
   },
   "outputs": [],
   "source": [
    "train.rename(columns={\"Sex\": \"gender\",\"Pclass\": \"class\",\"Embarked\":\"station\",\"Age\": \"age\"},inplace=True)\n",
    "test.rename(columns={\"Sex\": \"gender\",\"Pclass\": \"class\",\"Embarked\":\"station\",\"Age\": \"age\"},inplace=True)"
   ]
  },
  {
   "cell_type": "code",
   "execution_count": null,
   "metadata": {
    "execution": {
     "iopub.execute_input": "2021-08-10T23:26:23.362199Z",
     "iopub.status.busy": "2021-08-10T23:26:23.361803Z",
     "iopub.status.idle": "2021-08-10T23:26:23.366479Z",
     "shell.execute_reply": "2021-08-10T23:26:23.365434Z",
     "shell.execute_reply.started": "2021-08-10T23:26:23.362166Z"
    },
    "trusted": true
   },
   "outputs": [],
   "source": [
    "# şimdi dönüşüme hazırız. "
   ]
  },
  {
   "cell_type": "code",
   "execution_count": null,
   "metadata": {
    "execution": {
     "iopub.execute_input": "2021-08-10T23:26:25.234945Z",
     "iopub.status.busy": "2021-08-10T23:26:25.234545Z",
     "iopub.status.idle": "2021-08-10T23:26:25.24791Z",
     "shell.execute_reply": "2021-08-10T23:26:25.246913Z",
     "shell.execute_reply.started": "2021-08-10T23:26:25.234911Z"
    },
    "trusted": true
   },
   "outputs": [],
   "source": [
    "train[\"fare_group\"] = pd.cut(train[\"Fare\"],10,include_lowest=True)\n",
    "test[\"fare_group\"] = pd.cut(train[\"Fare\"],10,include_lowest=True)"
   ]
  },
  {
   "cell_type": "code",
   "execution_count": null,
   "metadata": {
    "execution": {
     "iopub.execute_input": "2021-08-10T23:26:27.025684Z",
     "iopub.status.busy": "2021-08-10T23:26:27.025312Z",
     "iopub.status.idle": "2021-08-10T23:26:27.038493Z",
     "shell.execute_reply": "2021-08-10T23:26:27.03745Z",
     "shell.execute_reply.started": "2021-08-10T23:26:27.025647Z"
    },
    "trusted": true
   },
   "outputs": [],
   "source": [
    "test.fare_group.value_counts()"
   ]
  },
  {
   "cell_type": "code",
   "execution_count": null,
   "metadata": {
    "execution": {
     "iopub.execute_input": "2021-08-10T23:26:28.638948Z",
     "iopub.status.busy": "2021-08-10T23:26:28.638539Z",
     "iopub.status.idle": "2021-08-10T23:26:28.651379Z",
     "shell.execute_reply": "2021-08-10T23:26:28.650324Z",
     "shell.execute_reply.started": "2021-08-10T23:26:28.63891Z"
    },
    "trusted": true
   },
   "outputs": [],
   "source": [
    "train.fare_group.value_counts()"
   ]
  },
  {
   "cell_type": "code",
   "execution_count": null,
   "metadata": {
    "execution": {
     "iopub.execute_input": "2021-08-10T23:26:30.236503Z",
     "iopub.status.busy": "2021-08-10T23:26:30.236169Z",
     "iopub.status.idle": "2021-08-10T23:26:30.245755Z",
     "shell.execute_reply": "2021-08-10T23:26:30.244735Z",
     "shell.execute_reply.started": "2021-08-10T23:26:30.236473Z"
    },
    "trusted": true
   },
   "outputs": [],
   "source": [
    "train.Fare.value_counts()"
   ]
  },
  {
   "cell_type": "code",
   "execution_count": null,
   "metadata": {
    "execution": {
     "iopub.execute_input": "2021-08-10T23:26:35.23953Z",
     "iopub.status.busy": "2021-08-10T23:26:35.239197Z",
     "iopub.status.idle": "2021-08-10T23:26:35.24422Z",
     "shell.execute_reply": "2021-08-10T23:26:35.243014Z",
     "shell.execute_reply.started": "2021-08-10T23:26:35.239497Z"
    },
    "trusted": true
   },
   "outputs": [],
   "source": [
    "from sklearn.preprocessing import LabelEncoder\n",
    "label = LabelEncoder()"
   ]
  },
  {
   "cell_type": "markdown",
   "metadata": {},
   "source": [
    "LabelEncoder ve OneHotEncoder ne işe yarar, nasıl çalışır farkları nelerdir? Başka yöntemler var mıdır?"
   ]
  },
  {
   "cell_type": "code",
   "execution_count": null,
   "metadata": {
    "execution": {
     "iopub.execute_input": "2021-08-10T23:28:01.177048Z",
     "iopub.status.busy": "2021-08-10T23:28:01.176668Z",
     "iopub.status.idle": "2021-08-10T23:28:01.190846Z",
     "shell.execute_reply": "2021-08-10T23:28:01.190052Z",
     "shell.execute_reply.started": "2021-08-10T23:28:01.177014Z"
    },
    "trusted": true
   },
   "outputs": [],
   "source": [
    "train[\"age_code\"] = label.fit_transform(train[\"age_group\"])\n",
    "train[\"fare_code\"] =label.fit_transform(train[\"fare_group\"])\n",
    "train[\"gender_code\"] = label.fit_transform(train[\"gender\"])\n",
    "train[\"station_code\"] = label.fit_transform(train[\"station\"])"
   ]
  },
  {
   "cell_type": "code",
   "execution_count": null,
   "metadata": {
    "execution": {
     "iopub.execute_input": "2021-08-10T23:28:04.382407Z",
     "iopub.status.busy": "2021-08-10T23:28:04.381791Z",
     "iopub.status.idle": "2021-08-10T23:28:04.392205Z",
     "shell.execute_reply": "2021-08-10T23:28:04.391165Z",
     "shell.execute_reply.started": "2021-08-10T23:28:04.382356Z"
    },
    "trusted": true
   },
   "outputs": [],
   "source": [
    "test[\"age_code\"] = label.fit_transform(test[\"age_group\"])\n",
    "test[\"fare_code\"] =label.fit_transform(test[\"fare_group\"])\n",
    "test[\"gender_code\"] = label.fit_transform(test[\"gender\"])\n",
    "test[\"station_code\"] = label.fit_transform(test[\"station\"])"
   ]
  },
  {
   "cell_type": "code",
   "execution_count": null,
   "metadata": {
    "execution": {
     "iopub.execute_input": "2021-08-10T23:28:06.674208Z",
     "iopub.status.busy": "2021-08-10T23:28:06.673859Z",
     "iopub.status.idle": "2021-08-10T23:28:06.678119Z",
     "shell.execute_reply": "2021-08-10T23:28:06.677032Z",
     "shell.execute_reply.started": "2021-08-10T23:28:06.674178Z"
    },
    "trusted": true
   },
   "outputs": [],
   "source": [
    "# not alın :) neler yaptık\n",
    "# gender M -> 1 F -> 0 oldu\n",
    "# station S -> 2 Q->1 C->0\n",
    "#age_group adult -> 0 child -> 1 elder -> 2\n",
    "# fare aşağıda"
   ]
  },
  {
   "cell_type": "code",
   "execution_count": null,
   "metadata": {
    "execution": {
     "iopub.execute_input": "2021-08-10T23:28:07.298703Z",
     "iopub.status.busy": "2021-08-10T23:28:07.298151Z",
     "iopub.status.idle": "2021-08-10T23:28:07.305751Z",
     "shell.execute_reply": "2021-08-10T23:28:07.304906Z",
     "shell.execute_reply.started": "2021-08-10T23:28:07.298644Z"
    },
    "trusted": true
   },
   "outputs": [],
   "source": [
    "train.fare_code.value_counts()"
   ]
  },
  {
   "cell_type": "code",
   "execution_count": null,
   "metadata": {
    "execution": {
     "iopub.execute_input": "2021-08-10T23:28:09.626046Z",
     "iopub.status.busy": "2021-08-10T23:28:09.625666Z",
     "iopub.status.idle": "2021-08-10T23:28:09.637603Z",
     "shell.execute_reply": "2021-08-10T23:28:09.636681Z",
     "shell.execute_reply.started": "2021-08-10T23:28:09.62601Z"
    },
    "trusted": true
   },
   "outputs": [],
   "source": [
    "train.fare_group.value_counts()"
   ]
  },
  {
   "cell_type": "code",
   "execution_count": null,
   "metadata": {
    "execution": {
     "iopub.execute_input": "2021-08-10T23:28:12.27588Z",
     "iopub.status.busy": "2021-08-10T23:28:12.275526Z",
     "iopub.status.idle": "2021-08-10T23:28:12.284759Z",
     "shell.execute_reply": "2021-08-10T23:28:12.283845Z",
     "shell.execute_reply.started": "2021-08-10T23:28:12.275847Z"
    },
    "trusted": true
   },
   "outputs": [],
   "source": [
    "train.age_group.value_counts()"
   ]
  },
  {
   "cell_type": "code",
   "execution_count": null,
   "metadata": {
    "execution": {
     "iopub.execute_input": "2021-08-10T23:28:13.043728Z",
     "iopub.status.busy": "2021-08-10T23:28:13.043386Z",
     "iopub.status.idle": "2021-08-10T23:28:13.051388Z",
     "shell.execute_reply": "2021-08-10T23:28:13.050318Z",
     "shell.execute_reply.started": "2021-08-10T23:28:13.043697Z"
    },
    "trusted": true
   },
   "outputs": [],
   "source": [
    "train.age_code.value_counts()"
   ]
  },
  {
   "cell_type": "code",
   "execution_count": null,
   "metadata": {
    "execution": {
     "iopub.execute_input": "2021-08-10T23:28:14.881892Z",
     "iopub.status.busy": "2021-08-10T23:28:14.881541Z",
     "iopub.status.idle": "2021-08-10T23:28:14.890384Z",
     "shell.execute_reply": "2021-08-10T23:28:14.889373Z",
     "shell.execute_reply.started": "2021-08-10T23:28:14.881859Z"
    },
    "trusted": true
   },
   "outputs": [],
   "source": [
    "test.age_group.value_counts()"
   ]
  },
  {
   "cell_type": "code",
   "execution_count": null,
   "metadata": {
    "execution": {
     "iopub.execute_input": "2021-08-10T23:28:16.528882Z",
     "iopub.status.busy": "2021-08-10T23:28:16.528507Z",
     "iopub.status.idle": "2021-08-10T23:28:16.535766Z",
     "shell.execute_reply": "2021-08-10T23:28:16.534672Z",
     "shell.execute_reply.started": "2021-08-10T23:28:16.528848Z"
    },
    "trusted": true
   },
   "outputs": [],
   "source": [
    "test.age_group.isnull().sum()"
   ]
  },
  {
   "cell_type": "code",
   "execution_count": null,
   "metadata": {
    "execution": {
     "iopub.execute_input": "2021-08-10T23:28:17.497975Z",
     "iopub.status.busy": "2021-08-10T23:28:17.497604Z",
     "iopub.status.idle": "2021-08-10T23:28:17.504985Z",
     "shell.execute_reply": "2021-08-10T23:28:17.503724Z",
     "shell.execute_reply.started": "2021-08-10T23:28:17.497942Z"
    },
    "trusted": true
   },
   "outputs": [],
   "source": [
    "test.age.isnull().sum()"
   ]
  },
  {
   "cell_type": "code",
   "execution_count": null,
   "metadata": {
    "execution": {
     "iopub.status.busy": "2021-08-10T22:54:51.090156Z",
     "iopub.status.idle": "2021-08-10T22:54:51.090612Z"
    },
    "trusted": true
   },
   "outputs": [],
   "source": [
    "test[\"age_code\"] = label.fit_transform(test[\"age_group\"])\n",
    "test[\"fare_code\"] =label.fit_transform(test[\"fare_group\"])\n",
    "test[\"gender_code\"] = label.fit_transform(test[\"gender\"])\n",
    "test[\"station_code\"] = label.fit_transform(test[\"station\"])"
   ]
  },
  {
   "cell_type": "code",
   "execution_count": null,
   "metadata": {
    "execution": {
     "iopub.execute_input": "2021-08-10T23:29:13.164483Z",
     "iopub.status.busy": "2021-08-10T23:29:13.16415Z",
     "iopub.status.idle": "2021-08-10T23:29:13.171215Z",
     "shell.execute_reply": "2021-08-10T23:29:13.169975Z",
     "shell.execute_reply.started": "2021-08-10T23:29:13.164454Z"
    },
    "trusted": true
   },
   "outputs": [],
   "source": [
    "ftrain = train.drop([\"gender\",\"Fare\",\"station\",\"age_group\",\"fare_group\",\"age\"],axis=1)"
   ]
  },
  {
   "cell_type": "code",
   "execution_count": null,
   "metadata": {
    "execution": {
     "iopub.execute_input": "2021-08-10T23:29:14.703046Z",
     "iopub.status.busy": "2021-08-10T23:29:14.702684Z",
     "iopub.status.idle": "2021-08-10T23:29:14.715573Z",
     "shell.execute_reply": "2021-08-10T23:29:14.714471Z",
     "shell.execute_reply.started": "2021-08-10T23:29:14.703014Z"
    },
    "trusted": true
   },
   "outputs": [],
   "source": [
    "ftrain.head(5)"
   ]
  },
  {
   "cell_type": "code",
   "execution_count": null,
   "metadata": {
    "execution": {
     "iopub.execute_input": "2021-08-10T23:29:17.906641Z",
     "iopub.status.busy": "2021-08-10T23:29:17.906253Z",
     "iopub.status.idle": "2021-08-10T23:29:17.913318Z",
     "shell.execute_reply": "2021-08-10T23:29:17.912211Z",
     "shell.execute_reply.started": "2021-08-10T23:29:17.906605Z"
    },
    "trusted": true
   },
   "outputs": [],
   "source": [
    "ftest = test.drop([\"gender\",\"Fare\",\"station\",\"age_group\",\"fare_group\",\"age\"],axis=1)"
   ]
  },
  {
   "cell_type": "code",
   "execution_count": null,
   "metadata": {
    "execution": {
     "iopub.execute_input": "2021-08-10T23:29:18.323905Z",
     "iopub.status.busy": "2021-08-10T23:29:18.323535Z",
     "iopub.status.idle": "2021-08-10T23:29:18.335157Z",
     "shell.execute_reply": "2021-08-10T23:29:18.333986Z",
     "shell.execute_reply.started": "2021-08-10T23:29:18.323872Z"
    },
    "trusted": true
   },
   "outputs": [],
   "source": [
    "ftest.head(5)"
   ]
  },
  {
   "cell_type": "code",
   "execution_count": null,
   "metadata": {
    "execution": {
     "iopub.execute_input": "2021-08-10T23:29:21.764449Z",
     "iopub.status.busy": "2021-08-10T23:29:21.764088Z",
     "iopub.status.idle": "2021-08-10T23:29:21.768605Z",
     "shell.execute_reply": "2021-08-10T23:29:21.767586Z",
     "shell.execute_reply.started": "2021-08-10T23:29:21.764417Z"
    },
    "trusted": true
   },
   "outputs": [],
   "source": [
    "#ready for take-off!!!"
   ]
  },
  {
   "cell_type": "code",
   "execution_count": null,
   "metadata": {
    "execution": {
     "iopub.execute_input": "2021-08-10T23:29:24.506723Z",
     "iopub.status.busy": "2021-08-10T23:29:24.506377Z",
     "iopub.status.idle": "2021-08-10T23:29:24.511486Z",
     "shell.execute_reply": "2021-08-10T23:29:24.510493Z",
     "shell.execute_reply.started": "2021-08-10T23:29:24.506692Z"
    },
    "trusted": true
   },
   "outputs": [],
   "source": [
    "y = ftrain[\"Survived\"]"
   ]
  },
  {
   "cell_type": "code",
   "execution_count": null,
   "metadata": {
    "execution": {
     "iopub.execute_input": "2021-08-10T23:29:28.908429Z",
     "iopub.status.busy": "2021-08-10T23:29:28.908086Z",
     "iopub.status.idle": "2021-08-10T23:29:28.914198Z",
     "shell.execute_reply": "2021-08-10T23:29:28.913035Z",
     "shell.execute_reply.started": "2021-08-10T23:29:28.908398Z"
    },
    "trusted": true
   },
   "outputs": [],
   "source": [
    "X = ftrain.drop([\"Survived\"],axis=1)"
   ]
  },
  {
   "cell_type": "code",
   "execution_count": null,
   "metadata": {
    "execution": {
     "iopub.execute_input": "2021-08-10T23:29:32.051349Z",
     "iopub.status.busy": "2021-08-10T23:29:32.050788Z",
     "iopub.status.idle": "2021-08-10T23:29:32.115199Z",
     "shell.execute_reply": "2021-08-10T23:29:32.114454Z",
     "shell.execute_reply.started": "2021-08-10T23:29:32.051302Z"
    },
    "trusted": true
   },
   "outputs": [],
   "source": [
    "from sklearn.model_selection import train_test_split"
   ]
  },
  {
   "cell_type": "code",
   "execution_count": null,
   "metadata": {
    "execution": {
     "iopub.execute_input": "2021-08-10T23:29:34.783308Z",
     "iopub.status.busy": "2021-08-10T23:29:34.782696Z",
     "iopub.status.idle": "2021-08-10T23:29:34.79052Z",
     "shell.execute_reply": "2021-08-10T23:29:34.789655Z",
     "shell.execute_reply.started": "2021-08-10T23:29:34.78325Z"
    },
    "trusted": true
   },
   "outputs": [],
   "source": [
    "X_train, X_test, y_train, y_test = train_test_split(X, y, test_size=0.30, random_state=123)"
   ]
  },
  {
   "cell_type": "code",
   "execution_count": null,
   "metadata": {
    "execution": {
     "iopub.status.busy": "2021-08-10T22:54:51.110515Z",
     "iopub.status.idle": "2021-08-10T22:54:51.110954Z"
    },
    "trusted": true
   },
   "outputs": [],
   "source": [
    "# aday algoritmalar ,i logistic regression ,decision tree, xgboost"
   ]
  },
  {
   "cell_type": "markdown",
   "metadata": {},
   "source": [
    "machine learning algoritmalarının altında yatan matematiği bilmek özellikle bir model kurmadan önce önemlidir. bu notebook un konusu dahilinde değil ancak birçok açık kaynak bu algoritmaları anlatmaktadır. \n",
    "örneğin logistic regression için; \n",
    "https://machinelearningmastery.com/logistic-regression-for-machine-learning/\n",
    "python un en çok kullanılan makine öğrenmesi kütüphanesi sklearn (scikit learn) logistic regression modulü için;\n",
    "https://scikit-learn.org/stable/modules/generated/sklearn.linear_model.LogisticRegression.html"
   ]
  },
  {
   "cell_type": "code",
   "execution_count": null,
   "metadata": {
    "execution": {
     "iopub.execute_input": "2021-08-10T23:34:56.051581Z",
     "iopub.status.busy": "2021-08-10T23:34:56.051125Z",
     "iopub.status.idle": "2021-08-10T23:34:56.144115Z",
     "shell.execute_reply": "2021-08-10T23:34:56.143014Z",
     "shell.execute_reply.started": "2021-08-10T23:34:56.051547Z"
    },
    "trusted": true
   },
   "outputs": [],
   "source": [
    "from sklearn.linear_model import LogisticRegression\n",
    "from sklearn import metrics"
   ]
  },
  {
   "cell_type": "markdown",
   "metadata": {},
   "source": [
    "yukarıda label encoder için yaptığımız gibi LogisticRegression modulü import edildikten sonra önce classifier ı bir değişkene atarız. bu sadece kullanım açısında değil kodun okunabilirliği açısından ve işlemek açısından çok önemlidir. "
   ]
  },
  {
   "cell_type": "code",
   "execution_count": null,
   "metadata": {
    "execution": {
     "iopub.execute_input": "2021-08-10T23:37:20.377925Z",
     "iopub.status.busy": "2021-08-10T23:37:20.377506Z",
     "iopub.status.idle": "2021-08-10T23:37:20.382385Z",
     "shell.execute_reply": "2021-08-10T23:37:20.38142Z",
     "shell.execute_reply.started": "2021-08-10T23:37:20.377888Z"
    },
    "trusted": true
   },
   "outputs": [],
   "source": [
    "logReg = LogisticRegression()"
   ]
  },
  {
   "cell_type": "markdown",
   "metadata": {},
   "source": [
    "label encoder gibi classifier çeşitleri sadece modele veriyi işlemekle değil aynı zamanda bir transformasyon yapmayı hedeflediği için fit ve transfor fonksiyonlarını beraber gerçekleştiren fit_transform fonksiyonunu kullanır. ancak logistic regessin classifier'ı için sadece fit() fonksiyonun kullnamamız gerekir. "
   ]
  },
  {
   "cell_type": "code",
   "execution_count": null,
   "metadata": {
    "execution": {
     "iopub.execute_input": "2021-08-10T23:39:13.97817Z",
     "iopub.status.busy": "2021-08-10T23:39:13.977799Z",
     "iopub.status.idle": "2021-08-10T23:39:14.153899Z",
     "shell.execute_reply": "2021-08-10T23:39:14.152742Z",
     "shell.execute_reply.started": "2021-08-10T23:39:13.978137Z"
    },
    "trusted": true
   },
   "outputs": [],
   "source": [
    "logReg.fit(X_train,y_train)"
   ]
  },
  {
   "cell_type": "markdown",
   "metadata": {},
   "source": [
    "burada biraz duralım! fit() estimator fonksiyonu supervised learning modellerinde X -> sample y ->target verilerini alarak estimator fonksiyonuna işler. sadece bu iki veriyi aynı zamanda ağırlık serisi varsa sample_weight parametrelerini alarak ona göre veri desenini işleyebilir. biz default weight none olarak aldığı için buraya yazmayacağız. "
   ]
  },
  {
   "cell_type": "code",
   "execution_count": null,
   "metadata": {
    "execution": {
     "iopub.execute_input": "2021-08-10T23:44:16.753211Z",
     "iopub.status.busy": "2021-08-10T23:44:16.752834Z",
     "iopub.status.idle": "2021-08-10T23:44:16.760572Z",
     "shell.execute_reply": "2021-08-10T23:44:16.759512Z",
     "shell.execute_reply.started": "2021-08-10T23:44:16.753175Z"
    },
    "trusted": true
   },
   "outputs": [],
   "source": [
    "y_pred = logReg.predict(X_test)"
   ]
  },
  {
   "cell_type": "markdown",
   "metadata": {},
   "source": [
    "şimdi burada bir kez daha duralım, sklearn fit_predict() fonksiyonu mevcut, biz neden fit() ve predict() i ayrıca kullandık? fit() estimator ü ve predict() method u beraber aynı anda işlemek unsupervised learning için uygun bir method. bu tarz öğrenimde y -> none default değerinde olacaktır. "
   ]
  },
  {
   "cell_type": "code",
   "execution_count": null,
   "metadata": {
    "execution": {
     "iopub.execute_input": "2021-08-10T23:47:15.964186Z",
     "iopub.status.busy": "2021-08-10T23:47:15.963838Z",
     "iopub.status.idle": "2021-08-10T23:47:15.972703Z",
     "shell.execute_reply": "2021-08-10T23:47:15.971516Z",
     "shell.execute_reply.started": "2021-08-10T23:47:15.964153Z"
    },
    "trusted": true
   },
   "outputs": [],
   "source": [
    "print('Accuracy of logistic regression classifier on test set: {:.2f}'.format(logReg.score(X_test, y_test)))"
   ]
  },
  {
   "cell_type": "code",
   "execution_count": null,
   "metadata": {
    "execution": {
     "iopub.execute_input": "2021-08-10T23:47:20.854178Z",
     "iopub.status.busy": "2021-08-10T23:47:20.853772Z",
     "iopub.status.idle": "2021-08-10T23:47:20.861813Z",
     "shell.execute_reply": "2021-08-10T23:47:20.860777Z",
     "shell.execute_reply.started": "2021-08-10T23:47:20.854131Z"
    },
    "trusted": true
   },
   "outputs": [],
   "source": [
    "res = pd.DataFrame()\n",
    "res[\"actual\"] = y_test\n",
    "res[\"pred\"] = y_pred"
   ]
  },
  {
   "cell_type": "code",
   "execution_count": null,
   "metadata": {
    "execution": {
     "iopub.execute_input": "2021-08-10T23:47:22.974875Z",
     "iopub.status.busy": "2021-08-10T23:47:22.974519Z",
     "iopub.status.idle": "2021-08-10T23:47:22.985678Z",
     "shell.execute_reply": "2021-08-10T23:47:22.984597Z",
     "shell.execute_reply.started": "2021-08-10T23:47:22.974844Z"
    },
    "trusted": true
   },
   "outputs": [],
   "source": [
    "res.head(15)"
   ]
  },
  {
   "cell_type": "code",
   "execution_count": null,
   "metadata": {
    "execution": {
     "iopub.execute_input": "2021-08-10T23:47:28.779023Z",
     "iopub.status.busy": "2021-08-10T23:47:28.77865Z",
     "iopub.status.idle": "2021-08-10T23:47:28.783665Z",
     "shell.execute_reply": "2021-08-10T23:47:28.782431Z",
     "shell.execute_reply.started": "2021-08-10T23:47:28.778987Z"
    },
    "trusted": true
   },
   "outputs": [],
   "source": [
    "from sklearn.metrics import classification_report"
   ]
  },
  {
   "cell_type": "code",
   "execution_count": null,
   "metadata": {
    "execution": {
     "iopub.execute_input": "2021-08-10T23:47:29.677625Z",
     "iopub.status.busy": "2021-08-10T23:47:29.677229Z",
     "iopub.status.idle": "2021-08-10T23:47:29.688758Z",
     "shell.execute_reply": "2021-08-10T23:47:29.687612Z",
     "shell.execute_reply.started": "2021-08-10T23:47:29.677589Z"
    },
    "trusted": true
   },
   "outputs": [],
   "source": [
    "print(classification_report(y_test,y_pred))"
   ]
  },
  {
   "cell_type": "code",
   "execution_count": null,
   "metadata": {
    "execution": {
     "iopub.status.busy": "2021-08-10T22:54:51.123682Z",
     "iopub.status.idle": "2021-08-10T22:54:51.124122Z"
    },
    "trusted": true
   },
   "outputs": [],
   "source": [
    "#buarada sonucu okumak çok önemli precision nedir? recall nedir f1-score nedir? accuracy nasıl hesaplanır.?\n"
   ]
  },
  {
   "cell_type": "markdown",
   "metadata": {},
   "source": [
    "https://medium.com/@raghaviadoni/evaluation-metrics-i-precision-recall-and-f1-score-3ec25e9fb5d3"
   ]
  },
  {
   "cell_type": "markdown",
   "metadata": {},
   "source": [
    "The precision is the ratio tp / (tp + fp) where tp is the number of true positives and fp the number of false positives. The precision is intuitively the ability of the classifier to not label a sample as positive if it is negative.\n",
    "The recall is the ratio tp / (tp + fn) where tp is the number of true positives and fn the number of false negatives. The recall is intuitively the ability of the classifier to find all the positive samples.\n",
    "The F-beta score can be interpreted as a weighted harmonic mean of the precision and recall, where an F-beta score reaches its best value at 1 and worst score at 0.\n",
    "The F-beta score weights the recall more than the precision by a factor of beta. beta = 1.0 means recall and precision are equally important.\n",
    "The support is the number of occurrences of each class in y_test."
   ]
  },
  {
   "cell_type": "code",
   "execution_count": null,
   "metadata": {
    "execution": {
     "iopub.execute_input": "2021-08-10T23:58:23.607322Z",
     "iopub.status.busy": "2021-08-10T23:58:23.606566Z",
     "iopub.status.idle": "2021-08-10T23:58:23.612066Z",
     "shell.execute_reply": "2021-08-10T23:58:23.610906Z",
     "shell.execute_reply.started": "2021-08-10T23:58:23.607272Z"
    },
    "trusted": true
   },
   "outputs": [],
   "source": [
    "from sklearn.tree import DecisionTreeClassifier\n",
    "dt = DecisionTreeClassifier()"
   ]
  },
  {
   "cell_type": "code",
   "execution_count": null,
   "metadata": {
    "execution": {
     "iopub.execute_input": "2021-08-11T00:00:56.676543Z",
     "iopub.status.busy": "2021-08-11T00:00:56.675913Z",
     "iopub.status.idle": "2021-08-11T00:00:56.685207Z",
     "shell.execute_reply": "2021-08-11T00:00:56.684502Z",
     "shell.execute_reply.started": "2021-08-11T00:00:56.676504Z"
    },
    "trusted": true
   },
   "outputs": [],
   "source": [
    "dt.fit(X_train,y_train)"
   ]
  },
  {
   "cell_type": "code",
   "execution_count": null,
   "metadata": {
    "execution": {
     "iopub.execute_input": "2021-08-11T00:01:01.327283Z",
     "iopub.status.busy": "2021-08-11T00:01:01.326666Z",
     "iopub.status.idle": "2021-08-11T00:01:01.332698Z",
     "shell.execute_reply": "2021-08-11T00:01:01.332029Z",
     "shell.execute_reply.started": "2021-08-11T00:01:01.327245Z"
    },
    "trusted": true
   },
   "outputs": [],
   "source": [
    "y_pred_dt = dt.predict(X_test)"
   ]
  },
  {
   "cell_type": "code",
   "execution_count": null,
   "metadata": {
    "execution": {
     "iopub.execute_input": "2021-08-11T00:01:07.941469Z",
     "iopub.status.busy": "2021-08-11T00:01:07.939422Z",
     "iopub.status.idle": "2021-08-11T00:01:07.949298Z",
     "shell.execute_reply": "2021-08-11T00:01:07.948466Z",
     "shell.execute_reply.started": "2021-08-11T00:01:07.941425Z"
    },
    "trusted": true
   },
   "outputs": [],
   "source": [
    "print('Accuracy of decision tree classifier on test set: {:.2f}'.format(dt.score(X_test, y_test)))"
   ]
  },
  {
   "cell_type": "code",
   "execution_count": null,
   "metadata": {
    "execution": {
     "iopub.execute_input": "2021-08-11T00:01:12.260226Z",
     "iopub.status.busy": "2021-08-11T00:01:12.259875Z",
     "iopub.status.idle": "2021-08-11T00:01:12.271078Z",
     "shell.execute_reply": "2021-08-11T00:01:12.270193Z",
     "shell.execute_reply.started": "2021-08-11T00:01:12.260197Z"
    },
    "trusted": true
   },
   "outputs": [],
   "source": [
    "print(classification_report(y_test,y_pred_dt))"
   ]
  },
  {
   "cell_type": "code",
   "execution_count": null,
   "metadata": {},
   "outputs": [],
   "source": []
  }
 ],
 "metadata": {
  "kernelspec": {
   "display_name": "Python 3",
   "language": "python",
   "name": "python3"
  },
  "language_info": {
   "codemirror_mode": {
    "name": "ipython",
    "version": 3
   },
   "file_extension": ".py",
   "mimetype": "text/x-python",
   "name": "python",
   "nbconvert_exporter": "python",
   "pygments_lexer": "ipython3",
   "version": "3.6.4"
  }
 },
 "nbformat": 4,
 "nbformat_minor": 4
}
